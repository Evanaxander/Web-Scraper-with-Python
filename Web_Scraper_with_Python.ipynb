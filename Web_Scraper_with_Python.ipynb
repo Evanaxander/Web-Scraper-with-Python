{
  "nbformat": 4,
  "nbformat_minor": 0,
  "metadata": {
    "colab": {
      "provenance": [],
      "authorship_tag": "ABX9TyNrH6Wzup+n98qX9SIRAyDS",
      "include_colab_link": true
    },
    "kernelspec": {
      "name": "python3",
      "display_name": "Python 3"
    },
    "language_info": {
      "name": "python"
    }
  },
  "cells": [
    {
      "cell_type": "markdown",
      "metadata": {
        "id": "view-in-github",
        "colab_type": "text"
      },
      "source": [
        "<a href=\"https://colab.research.google.com/github/Evanaxander/Web-Scraper-with-Python/blob/main/Web_Scraper_with_Python.ipynb\" target=\"_parent\"><img src=\"https://colab.research.google.com/assets/colab-badge.svg\" alt=\"Open In Colab\"/></a>"
      ]
    },
    {
      "cell_type": "markdown",
      "source": [
        "**What This Project Does:**\n",
        "This Python project is a Google News Scraper. It:\n",
        "\n",
        "1) Accesses the Google News website.\n",
        "\n",
        "2) Downloads the HTML content of the page.\n",
        "\n",
        "3) Uses BeautifulSoup to parse the HTML and find all the links (<a> tags) on the page.\n",
        "\n",
        "4) Filters out links that contain the word \"articles\" (to focus on news stories).\n",
        "\n",
        "5) Prints the URLs of the news articles."
      ],
      "metadata": {
        "id": "O1QsLw8465QO"
      }
    },
    {
      "cell_type": "markdown",
      "source": [
        "**How Web Scraping Works:**\n",
        "\n",
        "1) Send a Request: The program sends a request to the website's server to access the webpage (like Google News).\n",
        "\n",
        "2) Download the HTML: The server sends back the webpage's HTML code, which contains all the text, images, and links.\n",
        "\n",
        "3) Parse the HTML: The program uses a tool (like BeautifulSoup) to analyze the HTML and find the specific data you want (e.g., headlines, links, or images).\n",
        "\n",
        "4) Extract and Save Data: The program extracts the relevant data (e.g., article URLs) and saves it or processes it further."
      ],
      "metadata": {
        "id": "FZOIlHIJ7t1t"
      }
    },
    {
      "cell_type": "markdown",
      "source": [
        "**Key Concepts in This Project:**\n",
        "\n",
        "- BeautifulSoup: A Python library that makes it easy to parse HTML and extract data.\n",
        "\n",
        "- URLs and Links: The program looks for <a> tags in the HTML, which are used to create hyperlinks.\n",
        "\n",
        "- Filtering Data: The program only keeps links that are relevant (e.g., containing \"articles\").\n",
        "\n",
        "- Automation: Instead of manually searching for news links, the program does it automatically.\n",
        "\n",
        "**Why This Project is Useful:**\n",
        "- Data Collection: You can gather news headlines, URLs, or other data for analysis.\n",
        "\n",
        "- Automation: Saves time by automating repetitive tasks.\n",
        "\n",
        "- Customization: You can modify the code to scrape different websites or extract different types of data."
      ],
      "metadata": {
        "id": "IUTln8FT8H7-"
      }
    },
    {
      "cell_type": "markdown",
      "source": [
        "**Example Use Cases for Web Scraping:**\n",
        "\n",
        "- News Aggregation: Collect headlines from multiple news sites.\n",
        "\n",
        "- Price Comparison: Scrape e-commerce sites to compare product prices.\n",
        "\n",
        "- Sentiment Analysis: Analyze the tone of news articles or social media posts.\n",
        "\n",
        "- Research: Gather data for academic or market research."
      ],
      "metadata": {
        "id": "fFJV80t38Viv"
      }
    },
    {
      "cell_type": "code",
      "execution_count": 1,
      "metadata": {
        "id": "VIp23EV45q2V"
      },
      "outputs": [],
      "source": [
        "import urllib.request\n",
        "from bs4 import BeautifulSoup\n",
        "\n",
        "\n",
        "class Scraper:\n",
        "    def __init__(self, site):\n",
        "        self.site = site"
      ]
    },
    {
      "cell_type": "markdown",
      "source": [
        "The __init__ method uses a website to extract as a parameter. Later I will pass “https://news.google.com/” as a parameter. The Scraper class has a method called scrape that I will call whenever you want to retrieve data from the site I passed."
      ],
      "metadata": {
        "id": "XWUwRPPC8-dt"
      }
    },
    {
      "cell_type": "code",
      "source": [
        " def scrape(self):\n",
        "        r = urllib.request.urlopen(self.site)\n",
        "        html = r.read()"
      ],
      "metadata": {
        "id": "_vPExMVe8qW8"
      },
      "execution_count": 2,
      "outputs": []
    },
    {
      "cell_type": "markdown",
      "source": [
        "The urlopen () function sends a request to a website and returns a Response object in which its HTML code is stored, along with additional data. The response of the function. read () returns the HTML of the Response object. All the HTML for the website is in the html variable."
      ],
      "metadata": {
        "id": "lYrQ5bkm9OGK"
      }
    },
    {
      "cell_type": "markdown",
      "source": [
        "--------------------------------------------------------------------------------"
      ],
      "metadata": {
        "id": "ruNQdNwm9USL"
      }
    },
    {
      "cell_type": "markdown",
      "source": [
        "I am now ready to analyze the HTML. I will be adding a new line of code in the scrape function which creates a BeautifulSoup object, and pass the html variable and the “html.parser” string as a parameter:"
      ],
      "metadata": {
        "id": "8UzSKC619XZ7"
      }
    },
    {
      "cell_type": "code",
      "source": [
        "def scrape(self):\n",
        "        r = urllib.request.urlopen(self.site)\n",
        "        html = r.read()\n",
        "        parser = \"html.parser\"\n",
        "        sp = BeautifulSoup(html,parser)"
      ],
      "metadata": {
        "id": "5MoAMdnd9LFR"
      },
      "execution_count": 3,
      "outputs": []
    },
    {
      "cell_type": "markdown",
      "source": [
        "The BeautifulSoup object does all the hard work and parses the HTML. I can now add code to the scrape function that calls the find_all method on the BeautifulSoup object.\n",
        "-------------------------------------------------------------------\n",
        "Passing “a” as the parameter and the method will return all the URLs the website is linked to in the HTML code:"
      ],
      "metadata": {
        "id": "eFuxGWw19j5L"
      }
    },
    {
      "cell_type": "code",
      "source": [
        "  def scrape(self):\n",
        "        r = urllib.request.urlopen(self.site)\n",
        "        html = r.read()\n",
        "        parser = \"html.parser\"\n",
        "        sp = BeautifulSoup(html,parser)\n",
        "        for tag in sp.find_all(\"a\"):\n",
        "            url = tag.get(\"href\")\n",
        "            if url is None:\n",
        "                continue\n",
        "            if \"articles\" in url:\n",
        "                print(\"\\n\" + url)"
      ],
      "metadata": {
        "id": "kB37Uk269grn"
      },
      "execution_count": 4,
      "outputs": []
    },
    {
      "cell_type": "markdown",
      "source": [
        "The find_all method returns an iterable containing the tag objects found. Each time around the for loop, the variable receives the value of a new Tag object. Each Tag object has many different instance variables, but I just want the value of the href instance variable, which contains each URL.\n",
        "\n",
        "I can get it by calling the get method and passing “href” as a parameter. Finally, I verify that the URL variable contains data; that it contains the string “articles” (I don’t want to print internal links); and if so, I print it. Here is the full web scraper:"
      ],
      "metadata": {
        "id": "nnc4WlQ6968o"
      }
    },
    {
      "cell_type": "code",
      "source": [
        "import urllib.request\n",
        "from bs4 import BeautifulSoup\n",
        "\n",
        "\n",
        "class Scraper:\n",
        "    def __init__(self, site):\n",
        "        self.site = site\n",
        "\n",
        "    def scrape(self):\n",
        "        r = urllib.request.urlopen(self.site)\n",
        "        html = r.read()\n",
        "        parser = \"html.parser\"\n",
        "        sp = BeautifulSoup(html,parser)\n",
        "        for tag in sp.find_all(\"a\"):\n",
        "            url = tag.get(\"href\")\n",
        "            if url is None:\n",
        "                continue\n",
        "            if \"articles\" in url:\n",
        "                print(\"\\n\" + url)\n",
        "\n",
        "news = \"https://news.google.com/\"\n",
        "Scraper(news).scrape()"
      ],
      "metadata": {
        "id": "jGGqmFfs93LT"
      },
      "execution_count": 9,
      "outputs": []
    },
    {
      "cell_type": "markdown",
      "source": [
        "# **Output should look like:**"
      ],
      "metadata": {
        "id": "dGAtBeZR-wWx"
      }
    },
    {
      "cell_type": "markdown",
      "source": [
        "./articles/CBMiiQFodHRwczovL3d3dy5tb25leWNvbnRyb2wuY29tL25ld3MvYnVzaW5lc3MvaXBvL2J1bXBlci1saXN0aW5nLWNoZW1jb24tc3BlY2lhbGl0eS1jaGVtaWNhbHMtZGVidXRzLWF0LXJzLTczMC05NS1hLTExNS1wcmVtaXVtLTU5MDc2MjEuaHRtbNIBjQFodHRwczovL3d3dy5tb25leWNvbnRyb2wuY29tL25ld3MvYnVzaW5lc3MvaXBvL2J1bXBlci1saXN0aW5nLWNoZW1jb24tc3BlY2lhbGl0eS1jaGVtaWNhbHMtZGVidXRzLWF0LXJzLTczMC05NS1hLTExNS1wcmVtaXVtLTU5MDc2MjEuaHRtbC9hbXA?hl=en-IN&gl=IN&ceid=IN%3Aen\n",
        "\n",
        "./articles/CBMiiQFodHRwczovL3d3dy5tb25leWNvbnRyb2wuY29tL25ld3MvYnVzaW5lc3MvaXBvL2J1bXBlci1saXN0aW5nLWNoZW1jb24tc3BlY2lhbGl0eS1jaGVtaWNhbHMtZGVidXRzLWF0LXJzLTczMC05NS1hLTExNS1wcmVtaXVtLTU5MDc2MjEuaHRtbNIBjQFodHRwczovL3d3dy5tb25leWNvbnRyb2wuY29tL25ld3MvYnVzaW5lc3MvaXBvL2J1bXBlci1saXN0aW5nLWNoZW1jb24tc3BlY2lhbGl0eS1jaGVtaWNhbHMtZGVidXRzLWF0LXJzLTczMC05NS1hLTExNS1wcmVtaXVtLTU5MDc2MjEuaHRtbC9hbXA?hl=en-IN&gl=IN&ceid=IN%3Aen\n",
        "\n",
        "./articles/CBMiiQFodHRwczovL3d3dy5tb25leWNvbnRyb2wuY29tL25ld3MvYnVzaW5lc3MvaXBvL2J1bXBlci1saXN0aW5nLWNoZW1jb24tc3BlY2lhbGl0eS1jaGVtaWNhbHMtZGVidXRzLWF0LXJzLTczMC05NS1hLTExNS1wcmVtaXVtLTU5MDc2MjEuaHRtbNIBjQFodHRwczovL3d3dy5tb25leWNvbnRyb2wuY29tL25ld3MvYnVzaW5lc3MvaXBvL2J1bXBlci1saXN0aW5nLWNoZW1jb24tc3BlY2lhbGl0eS1jaGVtaWNhbHMtZGVidXRzLWF0LXJzLTczMC05NS1hLTExNS1wcmVtaXVtLTU5MDc2MjEuaHRtbC9hbXA?hl=en-IN&gl=IN&ceid=IN%3Aen\n",
        "\n",
        "./articles/CAIiEN65JBQTlrAk1479WuKaQrAqFwgEKg4IACoGCAowxLQ_MNevCDDnvNMF?hl=en-IN&gl=IN&ceid=IN%3Aen\n",
        "\n",
        "./articles/CAIiEN65JBQTlrAk1479WuKaQrAqFwgEKg4IACoGCAowxLQ_MNevCDDnvNMF?hl=en-IN&gl=IN&ceid=IN%3Aen\n",
        "\n",
        "./articles/CAIiEIfG6g8TDa91LrUgvv4SfRcqGQgEKhAIACoHCAow2pqGCzD954MDMJzyigY?hl=en-IN&gl=IN&ceid=IN%3Aen\n",
        "\n",
        "./articles/CAIiEIfG6g8TDa91LrUgvv4SfRcqGQgEKhAIACoHCAow2pqGCzD954MDMJzyigY?hl=en-IN&gl=IN&ceid=IN%3Aen\n",
        "\n",
        "./articles/CAIiEG22Qtp4ab78Y5kFLRsWq-wqGQgEKhAIACoHCAow55veCjDzvdUBMIPh5gU?hl=en-IN&gl=IN&ceid=IN%3Aen\n",
        "\n",
        "./articles/CAIiEG22Qtp4ab78Y5kFLRsWq-wqGQgEKhAIACoHCAow55veCjDzvdUBMIPh5gU?hl=en-IN&gl=IN&ceid=IN%3Aen\n",
        "\n",
        "./articles/CAIiEEQDNi_6fessB82J6KVeq60qFggEKg4IACoGCAowxLQ_MNevCDCkoh8?hl=en-IN&gl=IN&ceid=IN%3Aen\n",
        "\n",
        "./articles/CAIiEEQDNi_6fessB82J6KVeq60qFggEKg4IACoGCAowxLQ_MNevCDCkoh8?hl=en-IN&gl=IN&ceid=IN%3Aen\n",
        "\n",
        "./articles/CAIiEKuQtxbx8j-uunfY5g-gOtoqFggEKg4IACoGCAoww7k_MMevCDDpywE?hl=en-IN&gl=IN&ceid=IN%3Aen\n",
        "\n",
        "./articles/CAIiEKuQtxbx8j-uunfY5g-gOtoqFggEKg4IACoGCAoww7k_MMevCDDpywE?hl=en-IN&gl=IN&ceid=IN%3Aen\n",
        "\n",
        "./articles/CAIiEKuQtxbx8j-uunfY5g-gOtoqFggEKg4IACoGCAoww7k_MMevCDDpywE?hl=en-IN&gl=IN&ceid=IN%3Aen\n",
        "\n",
        "./articles/CCAiC0o4TkNDS2JxVUhjmAEB?hl=en-IN&gl=IN&ceid=IN%3Aen\n",
        "\n",
        "./articles/CCAiC0o4TkNDS2JxVUhjmAEB?hl=en-IN&gl=IN&ceid=IN%3Aen\n",
        "\n",
        "./articles/CAIiEEGQxdSeKlwa2YvVLQyLUb8qFwgEKg4IACoGCAoww7k_MMevCDC6rdgG?hl=en-IN&gl=IN&ceid=IN%3Aen\n",
        "\n",
        "./articles/CAIiEEGQxdSeKlwa2YvVLQyLUb8qFwgEKg4IACoGCAoww7k_MMevCDC6rdgG?hl=en-IN&gl=IN&ceid=IN%3Aen\n",
        "\n",
        "./articles/CAIiEJM9pEXAVv1HEP1h6QlDxTIqGAgEKg8IACoHCAow3rvTBDD89X4w0bTmBQ?hl=en-IN&gl=IN&ceid=IN%3Aen\n",
        "\n",
        "./articles/CAIiEJM9pEXAVv1HEP1h6QlDxTIqGAgEKg8IACoHCAow3rvTBDD89X4w0bTmBQ?hl=en-IN&gl=IN&ceid=IN%3Aen\n",
        "\n",
        "./articles/CAIiEKG6ZOcOPT_OJQ6OLwGKe7sqGQgEKhAIACoHCAowzrL9CjDC7vQCMK2y1gU?hl=en-IN&gl=IN&ceid=IN%3Aen\n",
        "\n",
        "./articles/CAIiEKG6ZOcOPT_OJQ6OLwGKe7sqGQgEKhAIACoHCAowzrL9CjDC7vQCMK2y1gU?hl=en-IN&gl=IN&ceid=IN%3Aen\n",
        "\n",
        "./articles/CAIiEKG6ZOcOPT_OJQ6OLwGKe7sqGQgEKhAIACoHCAowzrL9CjDC7vQCMK2y1gU?hl=en-IN&gl=IN&ceid=IN%3Aen\n",
        "\n",
        "./articles/CAIiEB_BeoliNbGwiNgLG9wZvAcqGQgEKhAIACoHCAowj8n_CjDIrfkCMJWZ2AY?hl=en-IN&gl=IN&ceid=IN%3Aen\n",
        "\n",
        "./articles/CAIiEB_BeoliNbGwiNgLG9wZvAcqGQgEKhAIACoHCAowj8n_CjDIrfkCMJWZ2AY?hl=en-IN&gl=IN&ceid=IN%3Aen\n",
        "\n",
        "./articles/CBMia2h0dHBzOi8vdGltZXNvZmluZGlhLmluZGlhdGltZXMuY29tL2NpdHkvaHlkZXJhYmFkL3dhcy1tb3NxdWUtZGVtb2xpc2hlZC1tYWdpY2FsbHkvYXJ0aWNsZXNob3cvNzg0MTU3OTAuY21z0gFmaHR0cHM6Ly9tLnRpbWVzb2ZpbmRpYS5jb20vY2l0eS9oeWRlcmFiYWQvd2FzLW1vc3F1ZS1kZW1vbGlzaGVkLW1hZ2ljYWxseS9hbXBfYXJ0aWNsZXNob3cvNzg0MTU3OTAuY21z?hl=en-IN&gl=IN&ceid=IN%3Aen\n",
        "\n",
        "./articles/CBMia2h0dHBzOi8vdGltZXNvZmluZGlhLmluZGlhdGltZXMuY29tL2NpdHkvaHlkZXJhYmFkL3dhcy1tb3NxdWUtZGVtb2xpc2hlZC1tYWdpY2FsbHkvYXJ0aWNsZXNob3cvNzg0MTU3OTAuY21z0gFmaHR0cHM6Ly9tLnRpbWVzb2ZpbmRpYS5jb20vY2l0eS9oeWRlcmFiYWQvd2FzLW1vc3F1ZS1kZW1vbGlzaGVkLW1hZ2ljYWxseS9hbXBfYXJ0aWNsZXNob3cvNzg0MTU3OTAuY21z?hl=en-IN&gl=IN&ceid=IN%3Aen\n",
        "\n",
        "./articles/CBMiigFodHRwczovL3RpbWVzb2ZpbmRpYS5pbmRpYXRpbWVzLmNvbS9jaXR5L2x1Y2tub3cvY291cnRyb29tLXRlbnNlLWFzLWp1ZGdlLXNwb2tlLWphaS1zcmktcmFtLWNyaWVzLWFmdGVyLWFjcXVpdHRhbC9hcnRpY2xlc2hvdy83ODQxNjU0NC5jbXPSAYUBaHR0cHM6Ly9tLnRpbWVzb2ZpbmRpYS5jb20vY2l0eS9sdWNrbm93L2NvdXJ0cm9vbS10ZW5zZS1hcy1qdWRnZS1zcG9rZS1qYWktc3JpLXJhbS1jcmllcy1hZnRlci1hY3F1aXR0YWwvYW1wX2FydGljbGVzaG93Lzc4NDE2NTQ0LmNtcw?hl=en-IN&gl=IN&ceid=IN%3Aen\n",
        "\n",
        "./articles/CBMiigFodHRwczovL3RpbWVzb2ZpbmRpYS5pbmRpYXRpbWVzLmNvbS9jaXR5L2x1Y2tub3cvY291cnRyb29tLXRlbnNlLWFzLWp1ZGdlLXNwb2tlLWphaS1zcmktcmFtLWNyaWVzLWFmdGVyLWFjcXVpdHRhbC9hcnRpY2xlc2hvdy83ODQxNjU0NC5jbXPSAYUBaHR0cHM6Ly9tLnRpbWVzb2ZpbmRpYS5jb20vY2l0eS9sdWNrbm93L2NvdXJ0cm9vbS10ZW5zZS1hcy1qdWRnZS1zcG9rZS1qYWktc3JpLXJhbS1jcmllcy1hZnRlci1hY3F1aXR0YWwvYW1wX2FydGljbGVzaG93Lzc4NDE2NTQ0LmNtcw?hl=en-IN&gl=IN&ceid=IN%3Aen\n",
        "\n",
        "./articles/CAIiEHNTCoiBrzsZh27XzSLO4BgqGAgEKg8IACoHCAow3rvTBDD89X4w8YzmBQ?hl=en-IN&gl=IN&ceid=IN%3Aen\n",
        "\n",
        "./articles/CAIiEHNTCoiBrzsZh27XzSLO4BgqGAgEKg8IACoHCAow3rvTBDD89X4w8YzmBQ?hl=en-IN&gl=IN&ceid=IN%3Aen\n",
        "\n",
        "./articles/CBMikgFodHRwczovL3d3dy5uZXdzMTguY29tL25ld3MvYnV6ei9qb2UtYmlkZW4tc2FpZC1pbnNoYWxsYWgtdG8tdHJvbGwtZG9uYWxkLXRydW1wLWR1cmluZy1wcmVzaWRlbnRpYWwtZGViYXRlLXR3aXR0ZXItc2F5cy1pdHMtcGVhay0yMDIwLTI5MjI3MDUuaHRtbNIBlgFodHRwczovL3d3dy5uZXdzMTguY29tL2FtcC9uZXdzL2J1enovam9lLWJpZGVuLXNhaWQtaW5zaGFsbGFoLXRvLXRyb2xsLWRvbmFsZC10cnVtcC1kdXJpbmctcHJlc2lkZW50aWFsLWRlYmF0ZS10d2l0dGVyLXNheXMtaXRzLXBlYWstMjAyMC0yOTIyNzA1Lmh0bWw?hl=en-IN&gl=IN&ceid=IN%3Aen\n",
        "\n",
        "./articles/CBMikgFodHRwczovL3d3dy5uZXdzMTguY29tL25ld3MvYnV6ei9qb2UtYmlkZW4tc2FpZC1pbnNoYWxsYWgtdG8tdHJvbGwtZG9uYWxkLXRydW1wLWR1cmluZy1wcmVzaWRlbnRpYWwtZGViYXRlLXR3aXR0ZXItc2F5cy1pdHMtcGVhay0yMDIwLTI5MjI3MDUuaHRtbNIBlgFodHRwczovL3d3dy5uZXdzMTguY29tL2FtcC9uZXdzL2J1enovam9lLWJpZGVuLXNhaWQtaW5zaGFsbGFoLXRvLXRyb2xsLWRvbmFsZC10cnVtcC1kdXJpbmctcHJlc2lkZW50aWFsLWRlYmF0ZS10d2l0dGVyLXNheXMtaXRzLXBlYWstMjAyMC0yOTIyNzA1Lmh0bWw?hl=en-IN&gl=IN&ceid=IN%3Aen\n",
        "\n",
        "./articles/CBMikgFodHRwczovL3d3dy5uZXdzMTguY29tL25ld3MvYnV6ei9qb2UtYmlkZW4tc2FpZC1pbnNoYWxsYWgtdG8tdHJvbGwtZG9uYWxkLXRydW1wLWR1cmluZy1wcmVzaWRlbnRpYWwtZGViYXRlLXR3aXR0ZXItc2F5cy1pdHMtcGVhay0yMDIwLTI5MjI3MDUuaHRtbNIBlgFodHRwczovL3d3dy5uZXdzMTguY29tL2FtcC9uZXdzL2J1enovam9lLWJpZGVuLXNhaWQtaW5zaGFsbGFoLXRvLXRyb2xsLWRvbmFsZC10cnVtcC1kdXJpbmctcHJlc2lkZW50aWFsLWRlYmF0ZS10d2l0dGVyLXNheXMtaXRzLXBlYWstMjAyMC0yOTIyNzA1Lmh0bWw?hl=en-IN&gl=IN&ceid=IN%3Aen\n",
        "\n",
        "./articles/CBMiMmh0dHBzOi8vd3d3LmJiYy5jb20vbmV3cy9lbGVjdGlvbi11cy0yMDIwLTU0MzU5OTkz0gE2aHR0cHM6Ly93d3cuYmJjLmNvbS9uZXdzL2FtcC9lbGVjdGlvbi11cy0yMDIwLTU0MzU5OTkz?hl=en-IN&gl=IN&ceid=IN%3Aen\n",
        "\n",
        "./articles/CBMiMmh0dHBzOi8vd3d3LmJiYy5jb20vbmV3cy9lbGVjdGlvbi11cy0yMDIwLTU0MzU5OTkz0gE2aHR0cHM6Ly93d3cuYmJjLmNvbS9uZXdzL2FtcC9lbGVjdGlvbi11cy0yMDIwLTU0MzU5OTkz?hl=en-IN&gl=IN&ceid=IN%3Aen\n",
        "\n",
        "./articles/CAIiEN6aa394GsWZUcUGXrA5c1MqFggEKg4IACoGCAowl6p7MN-zCTCOvRU?hl=en-IN&gl=IN&ceid=IN%3Aen\n",
        "\n",
        "./articles/CAIiEN6aa394GsWZUcUGXrA5c1MqFggEKg4IACoGCAowl6p7MN-zCTCOvRU?hl=en-IN&gl=IN&ceid=IN%3Aen\n",
        "\n",
        "./articles/CAIiEN0KfjKEcFiAFIUFjmbZyVsqFAgEKgwIACoFCAowhgIwkDgwob0I?hl=en-IN&gl=IN&ceid=IN%3Aen\n",
        "\n",
        "./articles/CAIiEN0KfjKEcFiAFIUFjmbZyVsqFAgEKgwIACoFCAowhgIwkDgwob0I?hl=en-IN&gl=IN&ceid=IN%3Aen\n",
        "\n",
        "./articles/CAIiEB13zqCd52y2AMSVeJKeC0cqFggEKg4IACoGCAowl6p7MN-zCTC9vBU?hl=en-IN&gl=IN&ceid=IN%3Aen\n",
        "\n",
        "./articles/CAIiEB13zqCd52y2AMSVeJKeC0cqFggEKg4IACoGCAowl6p7MN-zCTC9vBU?hl=en-IN&gl=IN&ceid=IN%3Aen\n",
        "\n",
        "./articles/CAIiEMU5tjLhEKVlJN7lbLB1posqFwgEKg4IACoGCAowxLQ_MNevCDDnvNMF?hl=en-IN&gl=IN&ceid=IN%3Aen\n",
        "\n",
        "./articles/CAIiEMU5tjLhEKVlJN7lbLB1posqFwgEKg4IACoGCAowxLQ_MNevCDDnvNMF?hl=en-IN&gl=IN&ceid=IN%3Aen\n",
        "\n",
        "./articles/CBMisAFodHRwczovL3d3dy5uZXdzMTguY29tL25ld3MvaW5kaWEvY29yb25hdmlydXMtbGl2ZS11cGRhdGVzLW1vZGVybmFzLWNvdmlkLTE5LXNob3Qtd29udC1iZS1yZWFkeS1ieS11cy1lbGVjdGlvbnMtZmRhLXdpZGVucy1zYWZldHktaW5xdWlyeS1pbnRvLWFzdHJhemVuZWNhcy12YWNjaW5lLTI5MjM2MjkuaHRtbNIBtAFodHRwczovL3d3dy5uZXdzMTguY29tL2FtcC9uZXdzL2luZGlhL2Nvcm9uYXZpcnVzLWxpdmUtdXBkYXRlcy1tb2Rlcm5hcy1jb3ZpZC0xOS1zaG90LXdvbnQtYmUtcmVhZHktYnktdXMtZWxlY3Rpb25zLWZkYS13aWRlbnMtc2FmZXR5LWlucXVpcnktaW50by1hc3RyYXplbmVjYXMtdmFjY2luZS0yOTIzNjI5Lmh0bWw?hl=en-IN&gl=IN&ceid=IN%3Aen\n",
        "\n",
        "./articles/CBMisAFodHRwczovL3d3dy5uZXdzMTguY29tL25ld3MvaW5kaWEvY29yb25hdmlydXMtbGl2ZS11cGRhdGVzLW1vZGVybmFzLWNvdmlkLTE5LXNob3Qtd29udC1iZS1yZWFkeS1ieS11cy1lbGVjdGlvbnMtZmRhLXdpZGVucy1zYWZldHktaW5xdWlyeS1pbnRvLWFzdHJhemVuZWNhcy12YWNjaW5lLTI5MjM2MjkuaHRtbNIBtAFodHRwczovL3d3dy5uZXdzMTguY29tL2FtcC9uZXdzL2luZGlhL2Nvcm9uYXZpcnVzLWxpdmUtdXBkYXRlcy1tb2Rlcm5hcy1jb3ZpZC0xOS1zaG90LXdvbnQtYmUtcmVhZHktYnktdXMtZWxlY3Rpb25zLWZkYS13aWRlbnMtc2FmZXR5LWlucXVpcnktaW50by1hc3RyYXplbmVjYXMtdmFjY2luZS0yOTIzNjI5Lmh0bWw?hl=en-IN&gl=IN&ceid=IN%3Aen\n",
        "\n",
        "./articles/CAIiEHcEaDHAGN-USkGrC2ffI7sqGQgEKhAIACoHCAowj8n_CjDIrfkCMNCf6AU?hl=en-IN&gl=IN&ceid=IN%3Aen\n",
        "\n",
        "./articles/CAIiEHcEaDHAGN-USkGrC2ffI7sqGQgEKhAIACoHCAowj8n_CjDIrfkCMNCf6AU?hl=en-IN&gl=IN&ceid=IN%3Aen\n",
        "\n",
        "./articles/CBMiggFodHRwczovL2luZGlhbmV4cHJlc3MuY29tL2FydGljbGUvY29yb25hdmlydXMvbW9kZXJuYS1jb3ZpZC0xOS12YWNjaW5lLXdlbGwtdG9sZXJhdGVkLWdlbmVyYXRlcy1pbW11bmUtb2xkZXItYWR1bHRzLXN0dWR5LTY2NDg0NjUv0gGHAWh0dHBzOi8vaW5kaWFuZXhwcmVzcy5jb20vYXJ0aWNsZS9jb3JvbmF2aXJ1cy9tb2Rlcm5hLWNvdmlkLTE5LXZhY2NpbmUtd2VsbC10b2xlcmF0ZWQtZ2VuZXJhdGVzLWltbXVuZS1vbGRlci1hZHVsdHMtc3R1ZHktNjY0ODQ2NS9saXRlLw?hl=en-IN&gl=IN&ceid=IN%3Aen\n",
        "\n",
        "./articles/CBMiggFodHRwczovL2luZGlhbmV4cHJlc3MuY29tL2FydGljbGUvY29yb25hdmlydXMvbW9kZXJuYS1jb3ZpZC0xOS12YWNjaW5lLXdlbGwtdG9sZXJhdGVkLWdlbmVyYXRlcy1pbW11bmUtb2xkZXItYWR1bHRzLXN0dWR5LTY2NDg0NjUv0gGHAWh0dHBzOi8vaW5kaWFuZXhwcmVzcy5jb20vYXJ0aWNsZS9jb3JvbmF2aXJ1cy9tb2Rlcm5hLWNvdmlkLTE5LXZhY2NpbmUtd2VsbC10b2xlcmF0ZWQtZ2VuZXJhdGVzLWltbXVuZS1vbGRlci1hZHVsdHMtc3R1ZHktNjY0ODQ2NS9saXRlLw?hl=en-IN&gl=IN&ceid=IN%3Aen\n",
        "\n",
        "./articles/CAIiEDfa74FROlvLHzyPIVDbXFYqFwgEKg4IACoGCAowxLQ_MNevCDDnvNMF?hl=en-IN&gl=IN&ceid=IN%3Aen\n",
        "\n",
        "./articles/CAIiEDfa74FROlvLHzyPIVDbXFYqFwgEKg4IACoGCAowxLQ_MNevCDDnvNMF?hl=en-IN&gl=IN&ceid=IN%3Aen\n",
        "\n",
        "./articles/CAIiEDetFhO9fBaleLttbd22zb4qFggEKg4IACoGCAoww7k_MMevCDDpywE?hl=en-IN&gl=IN&ceid=IN%3Aen\n",
        "\n",
        "./articles/CAIiEDetFhO9fBaleLttbd22zb4qFggEKg4IACoGCAoww7k_MMevCDDpywE?hl=en-IN&gl=IN&ceid=IN%3Aen\n",
        "\n",
        "./articles/CAIiEDetFhO9fBaleLttbd22zb4qFggEKg4IACoGCAoww7k_MMevCDDpywE?hl=en-IN&gl=IN&ceid=IN%3Aen\n",
        "\n",
        "./articles/CAIiEHgy-jTL75PvW0YSpz73cJMqGQgEKhAIACoHCAowzrL9CjDC7vQCMM6a0wY?hl=en-IN&gl=IN&ceid=IN%3Aen\n",
        "\n",
        "./articles/CAIiEHgy-jTL75PvW0YSpz73cJMqGQgEKhAIACoHCAowzrL9CjDC7vQCMM6a0wY?hl=en-IN&gl=IN&ceid=IN%3Aen\n",
        "\n",
        "./articles/CAIiEDH5jNSiFxuFpjIB29xGfY0qGAgEKg8IACoHCAow3rvTBDD89X4w8YzmBQ?hl=en-IN&gl=IN&ceid=IN%3Aen\n",
        "\n",
        "./articles/CAIiEDH5jNSiFxuFpjIB29xGfY0qGAgEKg8IACoHCAow3rvTBDD89X4w8YzmBQ?hl=en-IN&gl=IN&ceid=IN%3Aen\n",
        "\n",
        "./articles/CAIiEPGK1AAXrmZY6jsLb1sTa_MqGQgEKhAIACoHCAowj8n_CjDIrfkCMILSxQY?hl=en-IN&gl=IN&ceid=IN%3Aen\n",
        "\n",
        "./articles/CAIiEPGK1AAXrmZY6jsLb1sTa_MqGQgEKhAIACoHCAowj8n_CjDIrfkCMILSxQY?hl=en-IN&gl=IN&ceid=IN%3Aen\n",
        "\n",
        "./articles/CBMiigFodHRwczovL2xpdmV1cGRhdGVzLmhpbmR1c3RhbnRpbWVzLmNvbS9pbmRpYS9jb3JvbmF2aXJ1cy1pbmRpYS13b3JsZC1sYXRlc3QtbmV3cy1jb3ZpZC0xOS1kZWF0aC10b2xsLXNlcHRlbWJlci0zMC0yMDIwLTIxNjAxNDI5OTE0MTM5Lmh0bWzSAY4BaHR0cHM6Ly9saXZldXBkYXRlcy5oaW5kdXN0YW50aW1lcy5jb20vaW5kaWEvY29yb25hdmlydXMtaW5kaWEtd29ybGQtbGF0ZXN0LW5ld3MtY292aWQtMTktZGVhdGgtdG9sbC1zZXB0ZW1iZXItMzAtMjAyMC0yMTYwMTQyOTkxNDEzOV9hbXAuaHRtbA?hl=en-IN&gl=IN&ceid=IN%3Aen\n",
        "\n",
        "./articles/CBMiigFodHRwczovL2xpdmV1cGRhdGVzLmhpbmR1c3RhbnRpbWVzLmNvbS9pbmRpYS9jb3JvbmF2aXJ1cy1pbmRpYS13b3JsZC1sYXRlc3QtbmV3cy1jb3ZpZC0xOS1kZWF0aC10b2xsLXNlcHRlbWJlci0zMC0yMDIwLTIxNjAxNDI5OTE0MTM5Lmh0bWzSAY4BaHR0cHM6Ly9saXZldXBkYXRlcy5oaW5kdXN0YW50aW1lcy5jb20vaW5kaWEvY29yb25hdmlydXMtaW5kaWEtd29ybGQtbGF0ZXN0LW5ld3MtY292aWQtMTktZGVhdGgtdG9sbC1zZXB0ZW1iZXItMzAtMjAyMC0yMTYwMTQyOTkxNDEzOV9hbXAuaHRtbA?hl=en-IN&gl=IN&ceid=IN%3Aen\n",
        "\n",
        "./articles/CBMiXGh0dHBzOi8vd3d3LmJvb21saXZlLmluL2Zha2UtbmV3cy9uby10aGlzLWlzLW5vdC1hLXBob3RvLW9mLXRoZS1kZWNlYXNlZC1oYXRocmFzLXZpY3RpbS05OTcw0gEA?hl=en-IN&gl=IN&ceid=IN%3Aen\n",
        "\n",
        "./articles/CBMiXGh0dHBzOi8vd3d3LmJvb21saXZlLmluL2Zha2UtbmV3cy9uby10aGlzLWlzLW5vdC1hLXBob3RvLW9mLXRoZS1kZWNlYXNlZC1oYXRocmFzLXZpY3RpbS05OTcw0gEA?hl=en-IN&gl=IN&ceid=IN%3Aen\n",
        "\n",
        "./articles/CBMiaGh0dHBzOi8vdGhlbG9naWNhbGluZGlhbi5jb20vZmFjdC1jaGVjay93b21hbi1hc3NhdWx0ZWQtdG9ydHVyZWQtaGF0aHJhcy11dHRhci1wcmFkZXNoLXZpcmFsLXBob3RvLTI0MDc50gEA?hl=en-IN&gl=IN&ceid=IN%3Aen\n",
        "\n",
        "./articles/CBMiaGh0dHBzOi8vdGhlbG9naWNhbGluZGlhbi5jb20vZmFjdC1jaGVjay93b21hbi1hc3NhdWx0ZWQtdG9ydHVyZWQtaGF0aHJhcy11dHRhci1wcmFkZXNoLXZpcmFsLXBob3RvLTI0MDc50gEA?hl=en-IN&gl=IN&ceid=IN%3Aen\n",
        "\n",
        "./articles/CBMidWh0dHBzOi8vd3d3LmluZGlhdG9kYXkuaW4vZmFjdC1jaGVjay9zdG9yeS93cm9uZy1naXJsLWdvZXMtdmlyYWwtb24tc29jaWFsLW1lZGlhLWFzLWhhdGhyYXMtdmljdGltLTE3MjY3MjItMjAyMC0wOS0yOdIBAA?hl=en-IN&gl=IN&ceid=IN%3Aen\n",
        "\n",
        "./articles/CBMidWh0dHBzOi8vd3d3LmluZGlhdG9kYXkuaW4vZmFjdC1jaGVjay9zdG9yeS93cm9uZy1naXJsLWdvZXMtdmlyYWwtb24tc29jaWFsLW1lZGlhLWFzLWhhdGhyYXMtdmljdGltLTE3MjY3MjItMjAyMC0wOS0yOdIBAA?hl=en-IN&gl=IN&ceid=IN%3Aen\n",
        "\n",
        "./articles/CBMibGh0dHBzOi8vd3d3LmFsdG5ld3MuaW4vdmlkZW8tc2hhcmVkLXRvLW1ha2UtbWlzbGVhZGluZy1jbGFpbS10aGF0LWhhdGhyYXMtdmljdGltcy1mYW1pbHktZGlkLWhlci1sYXN0LXJpdGVzL9IBAA?hl=en-IN&gl=IN&ceid=IN%3Aen\n",
        "\n",
        "./articles/CBMibGh0dHBzOi8vd3d3LmFsdG5ld3MuaW4vdmlkZW8tc2hhcmVkLXRvLW1ha2UtbWlzbGVhZGluZy1jbGFpbS10aGF0LWhhdGhyYXMtdmljdGltcy1mYW1pbHktZGlkLWhlci1sYXN0LXJpdGVzL9IBAA?hl=en-IN&gl=IN&ceid=IN%3Aen\n",
        "\n",
        "./articles/CBMibmh0dHBzOi8vZmFjdGx5LmluL29zZC10by1mb3JtZXItbWFoYXJhc2h0cmEtY20tZGV2ZW5kcmEtZmFkbmF2aXMtaXMtYmVpbmctcmVmZXJyZWQtYXMtb3NkLXRvLXVkZGhhdi10aGFja2VyYXkv0gEA?hl=en-IN&gl=IN&ceid=IN%3Aen\n",
        "\n",
        "./articles/CBMibmh0dHBzOi8vZmFjdGx5LmluL29zZC10by1mb3JtZXItbWFoYXJhc2h0cmEtY20tZGV2ZW5kcmEtZmFkbmF2aXMtaXMtYmVpbmctcmVmZXJyZWQtYXMtb3NkLXRvLXVkZGhhdi10aGFja2VyYXkv0gEA?hl=en-IN&gl=IN&ceid=IN%3Aen\n",
        "\n",
        "Process finished with exit code 0"
      ],
      "metadata": {
        "id": "NL5vkxMN-1QI"
      }
    },
    {
      "cell_type": "markdown",
      "source": [
        "Now with this web scraper with Python, I can collect Google News headlines, the possibilities are endless. I can write a program to analyze the most used words in headlines. I can create a program to analyze stock sentiment and see if it correlates with the stock market."
      ],
      "metadata": {
        "id": "hCyAC6Ap-87I"
      }
    },
    {
      "cell_type": "code",
      "source": [],
      "metadata": {
        "id": "8Wg4cWeh-K30"
      },
      "execution_count": null,
      "outputs": []
    }
  ]
}